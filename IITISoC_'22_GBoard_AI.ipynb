{
  "nbformat": 4,
  "nbformat_minor": 0,
  "metadata": {
    "colab": {
      "name": "IITISoC '22 GBoard AI.ipynb",
      "provenance": [],
      "collapsed_sections": [],
      "include_colab_link": true
    },
    "kernelspec": {
      "name": "python3",
      "display_name": "Python 3"
    },
    "language_info": {
      "name": "python"
    },
    "accelerator": "GPU",
    "gpuClass": "standard"
  },
  "cells": [
    {
      "cell_type": "markdown",
      "metadata": {
        "id": "view-in-github",
        "colab_type": "text"
      },
      "source": [
        "<a href=\"https://colab.research.google.com/github/akankshaH05/IITI-SoC-2022-GBoard-AI/blob/main/IITISoC_'22_GBoard_AI.ipynb\" target=\"_parent\"><img src=\"https://colab.research.google.com/assets/colab-badge.svg\" alt=\"Open In Colab\"/></a>"
      ]
    },
    {
      "cell_type": "markdown",
      "source": [
        "Link to dataset used: https://shorturl.at/cqvxZ"
      ],
      "metadata": {
        "id": "qiqmhaVlMUv-"
      }
    },
    {
      "cell_type": "code",
      "execution_count": null,
      "metadata": {
        "id": "B-nN_Id7jFAm",
        "colab": {
          "base_uri": "https://localhost:8080/"
        },
        "outputId": "6aa32521-2a3b-4b8f-f38a-af347ef55292"
      },
      "outputs": [
        {
          "output_type": "stream",
          "name": "stdout",
          "text": [
            "Colab only includes TensorFlow 2.x; %tensorflow_version has no effect.\n"
          ]
        }
      ],
      "source": [
        "%tensorflow_version 2.x \n",
        "from keras.preprocessing import sequence\n",
        "import keras\n",
        "import tensorflow as tf\n",
        "import os\n",
        "import numpy as np\n",
        "from google.colab import files\n",
        "import matplotlib.pyplot as plt"
      ]
    },
    {
      "cell_type": "code",
      "source": [
        "# Kindly download the dataset from link given above and upload here\n",
        "\n",
        "path_to_file = list(files.upload().keys())[0]"
      ],
      "metadata": {
        "id": "n7Euvh44mkhy",
        "colab": {
          "resources": {
            "http://localhost:8080/nbextensions/google.colab/files.js": {
              "data": "Ly8gQ29weXJpZ2h0IDIwMTcgR29vZ2xlIExMQwovLwovLyBMaWNlbnNlZCB1bmRlciB0aGUgQXBhY2hlIExpY2Vuc2UsIFZlcnNpb24gMi4wICh0aGUgIkxpY2Vuc2UiKTsKLy8geW91IG1heSBub3QgdXNlIHRoaXMgZmlsZSBleGNlcHQgaW4gY29tcGxpYW5jZSB3aXRoIHRoZSBMaWNlbnNlLgovLyBZb3UgbWF5IG9idGFpbiBhIGNvcHkgb2YgdGhlIExpY2Vuc2UgYXQKLy8KLy8gICAgICBodHRwOi8vd3d3LmFwYWNoZS5vcmcvbGljZW5zZXMvTElDRU5TRS0yLjAKLy8KLy8gVW5sZXNzIHJlcXVpcmVkIGJ5IGFwcGxpY2FibGUgbGF3IG9yIGFncmVlZCB0byBpbiB3cml0aW5nLCBzb2Z0d2FyZQovLyBkaXN0cmlidXRlZCB1bmRlciB0aGUgTGljZW5zZSBpcyBkaXN0cmlidXRlZCBvbiBhbiAiQVMgSVMiIEJBU0lTLAovLyBXSVRIT1VUIFdBUlJBTlRJRVMgT1IgQ09ORElUSU9OUyBPRiBBTlkgS0lORCwgZWl0aGVyIGV4cHJlc3Mgb3IgaW1wbGllZC4KLy8gU2VlIHRoZSBMaWNlbnNlIGZvciB0aGUgc3BlY2lmaWMgbGFuZ3VhZ2UgZ292ZXJuaW5nIHBlcm1pc3Npb25zIGFuZAovLyBsaW1pdGF0aW9ucyB1bmRlciB0aGUgTGljZW5zZS4KCi8qKgogKiBAZmlsZW92ZXJ2aWV3IEhlbHBlcnMgZm9yIGdvb2dsZS5jb2xhYiBQeXRob24gbW9kdWxlLgogKi8KKGZ1bmN0aW9uKHNjb3BlKSB7CmZ1bmN0aW9uIHNwYW4odGV4dCwgc3R5bGVBdHRyaWJ1dGVzID0ge30pIHsKICBjb25zdCBlbGVtZW50ID0gZG9jdW1lbnQuY3JlYXRlRWxlbWVudCgnc3BhbicpOwogIGVsZW1lbnQudGV4dENvbnRlbnQgPSB0ZXh0OwogIGZvciAoY29uc3Qga2V5IG9mIE9iamVjdC5rZXlzKHN0eWxlQXR0cmlidXRlcykpIHsKICAgIGVsZW1lbnQuc3R5bGVba2V5XSA9IHN0eWxlQXR0cmlidXRlc1trZXldOwogIH0KICByZXR1cm4gZWxlbWVudDsKfQoKLy8gTWF4IG51bWJlciBvZiBieXRlcyB3aGljaCB3aWxsIGJlIHVwbG9hZGVkIGF0IGEgdGltZS4KY29uc3QgTUFYX1BBWUxPQURfU0laRSA9IDEwMCAqIDEwMjQ7CgpmdW5jdGlvbiBfdXBsb2FkRmlsZXMoaW5wdXRJZCwgb3V0cHV0SWQpIHsKICBjb25zdCBzdGVwcyA9IHVwbG9hZEZpbGVzU3RlcChpbnB1dElkLCBvdXRwdXRJZCk7CiAgY29uc3Qgb3V0cHV0RWxlbWVudCA9IGRvY3VtZW50LmdldEVsZW1lbnRCeUlkKG91dHB1dElkKTsKICAvLyBDYWNoZSBzdGVwcyBvbiB0aGUgb3V0cHV0RWxlbWVudCB0byBtYWtlIGl0IGF2YWlsYWJsZSBmb3IgdGhlIG5leHQgY2FsbAogIC8vIHRvIHVwbG9hZEZpbGVzQ29udGludWUgZnJvbSBQeXRob24uCiAgb3V0cHV0RWxlbWVudC5zdGVwcyA9IHN0ZXBzOwoKICByZXR1cm4gX3VwbG9hZEZpbGVzQ29udGludWUob3V0cHV0SWQpOwp9CgovLyBUaGlzIGlzIHJvdWdobHkgYW4gYXN5bmMgZ2VuZXJhdG9yIChub3Qgc3VwcG9ydGVkIGluIHRoZSBicm93c2VyIHlldCksCi8vIHdoZXJlIHRoZXJlIGFyZSBtdWx0aXBsZSBhc3luY2hyb25vdXMgc3RlcHMgYW5kIHRoZSBQeXRob24gc2lkZSBpcyBnb2luZwovLyB0byBwb2xsIGZvciBjb21wbGV0aW9uIG9mIGVhY2ggc3RlcC4KLy8gVGhpcyB1c2VzIGEgUHJvbWlzZSB0byBibG9jayB0aGUgcHl0aG9uIHNpZGUgb24gY29tcGxldGlvbiBvZiBlYWNoIHN0ZXAsCi8vIHRoZW4gcGFzc2VzIHRoZSByZXN1bHQgb2YgdGhlIHByZXZpb3VzIHN0ZXAgYXMgdGhlIGlucHV0IHRvIHRoZSBuZXh0IHN0ZXAuCmZ1bmN0aW9uIF91cGxvYWRGaWxlc0NvbnRpbnVlKG91dHB1dElkKSB7CiAgY29uc3Qgb3V0cHV0RWxlbWVudCA9IGRvY3VtZW50LmdldEVsZW1lbnRCeUlkKG91dHB1dElkKTsKICBjb25zdCBzdGVwcyA9IG91dHB1dEVsZW1lbnQuc3RlcHM7CgogIGNvbnN0IG5leHQgPSBzdGVwcy5uZXh0KG91dHB1dEVsZW1lbnQubGFzdFByb21pc2VWYWx1ZSk7CiAgcmV0dXJuIFByb21pc2UucmVzb2x2ZShuZXh0LnZhbHVlLnByb21pc2UpLnRoZW4oKHZhbHVlKSA9PiB7CiAgICAvLyBDYWNoZSB0aGUgbGFzdCBwcm9taXNlIHZhbHVlIHRvIG1ha2UgaXQgYXZhaWxhYmxlIHRvIHRoZSBuZXh0CiAgICAvLyBzdGVwIG9mIHRoZSBnZW5lcmF0b3IuCiAgICBvdXRwdXRFbGVtZW50Lmxhc3RQcm9taXNlVmFsdWUgPSB2YWx1ZTsKICAgIHJldHVybiBuZXh0LnZhbHVlLnJlc3BvbnNlOwogIH0pOwp9CgovKioKICogR2VuZXJhdG9yIGZ1bmN0aW9uIHdoaWNoIGlzIGNhbGxlZCBiZXR3ZWVuIGVhY2ggYXN5bmMgc3RlcCBvZiB0aGUgdXBsb2FkCiAqIHByb2Nlc3MuCiAqIEBwYXJhbSB7c3RyaW5nfSBpbnB1dElkIEVsZW1lbnQgSUQgb2YgdGhlIGlucHV0IGZpbGUgcGlja2VyIGVsZW1lbnQuCiAqIEBwYXJhbSB7c3RyaW5nfSBvdXRwdXRJZCBFbGVtZW50IElEIG9mIHRoZSBvdXRwdXQgZGlzcGxheS4KICogQHJldHVybiB7IUl0ZXJhYmxlPCFPYmplY3Q+fSBJdGVyYWJsZSBvZiBuZXh0IHN0ZXBzLgogKi8KZnVuY3Rpb24qIHVwbG9hZEZpbGVzU3RlcChpbnB1dElkLCBvdXRwdXRJZCkgewogIGNvbnN0IGlucHV0RWxlbWVudCA9IGRvY3VtZW50LmdldEVsZW1lbnRCeUlkKGlucHV0SWQpOwogIGlucHV0RWxlbWVudC5kaXNhYmxlZCA9IGZhbHNlOwoKICBjb25zdCBvdXRwdXRFbGVtZW50ID0gZG9jdW1lbnQuZ2V0RWxlbWVudEJ5SWQob3V0cHV0SWQpOwogIG91dHB1dEVsZW1lbnQuaW5uZXJIVE1MID0gJyc7CgogIGNvbnN0IHBpY2tlZFByb21pc2UgPSBuZXcgUHJvbWlzZSgocmVzb2x2ZSkgPT4gewogICAgaW5wdXRFbGVtZW50LmFkZEV2ZW50TGlzdGVuZXIoJ2NoYW5nZScsIChlKSA9PiB7CiAgICAgIHJlc29sdmUoZS50YXJnZXQuZmlsZXMpOwogICAgfSk7CiAgfSk7CgogIGNvbnN0IGNhbmNlbCA9IGRvY3VtZW50LmNyZWF0ZUVsZW1lbnQoJ2J1dHRvbicpOwogIGlucHV0RWxlbWVudC5wYXJlbnRFbGVtZW50LmFwcGVuZENoaWxkKGNhbmNlbCk7CiAgY2FuY2VsLnRleHRDb250ZW50ID0gJ0NhbmNlbCB1cGxvYWQnOwogIGNvbnN0IGNhbmNlbFByb21pc2UgPSBuZXcgUHJvbWlzZSgocmVzb2x2ZSkgPT4gewogICAgY2FuY2VsLm9uY2xpY2sgPSAoKSA9PiB7CiAgICAgIHJlc29sdmUobnVsbCk7CiAgICB9OwogIH0pOwoKICAvLyBXYWl0IGZvciB0aGUgdXNlciB0byBwaWNrIHRoZSBmaWxlcy4KICBjb25zdCBmaWxlcyA9IHlpZWxkIHsKICAgIHByb21pc2U6IFByb21pc2UucmFjZShbcGlja2VkUHJvbWlzZSwgY2FuY2VsUHJvbWlzZV0pLAogICAgcmVzcG9uc2U6IHsKICAgICAgYWN0aW9uOiAnc3RhcnRpbmcnLAogICAgfQogIH07CgogIGNhbmNlbC5yZW1vdmUoKTsKCiAgLy8gRGlzYWJsZSB0aGUgaW5wdXQgZWxlbWVudCBzaW5jZSBmdXJ0aGVyIHBpY2tzIGFyZSBub3QgYWxsb3dlZC4KICBpbnB1dEVsZW1lbnQuZGlzYWJsZWQgPSB0cnVlOwoKICBpZiAoIWZpbGVzKSB7CiAgICByZXR1cm4gewogICAgICByZXNwb25zZTogewogICAgICAgIGFjdGlvbjogJ2NvbXBsZXRlJywKICAgICAgfQogICAgfTsKICB9CgogIGZvciAoY29uc3QgZmlsZSBvZiBmaWxlcykgewogICAgY29uc3QgbGkgPSBkb2N1bWVudC5jcmVhdGVFbGVtZW50KCdsaScpOwogICAgbGkuYXBwZW5kKHNwYW4oZmlsZS5uYW1lLCB7Zm9udFdlaWdodDogJ2JvbGQnfSkpOwogICAgbGkuYXBwZW5kKHNwYW4oCiAgICAgICAgYCgke2ZpbGUudHlwZSB8fCAnbi9hJ30pIC0gJHtmaWxlLnNpemV9IGJ5dGVzLCBgICsKICAgICAgICBgbGFzdCBtb2RpZmllZDogJHsKICAgICAgICAgICAgZmlsZS5sYXN0TW9kaWZpZWREYXRlID8gZmlsZS5sYXN0TW9kaWZpZWREYXRlLnRvTG9jYWxlRGF0ZVN0cmluZygpIDoKICAgICAgICAgICAgICAgICAgICAgICAgICAgICAgICAgICAgJ24vYSd9IC0gYCkpOwogICAgY29uc3QgcGVyY2VudCA9IHNwYW4oJzAlIGRvbmUnKTsKICAgIGxpLmFwcGVuZENoaWxkKHBlcmNlbnQpOwoKICAgIG91dHB1dEVsZW1lbnQuYXBwZW5kQ2hpbGQobGkpOwoKICAgIGNvbnN0IGZpbGVEYXRhUHJvbWlzZSA9IG5ldyBQcm9taXNlKChyZXNvbHZlKSA9PiB7CiAgICAgIGNvbnN0IHJlYWRlciA9IG5ldyBGaWxlUmVhZGVyKCk7CiAgICAgIHJlYWRlci5vbmxvYWQgPSAoZSkgPT4gewogICAgICAgIHJlc29sdmUoZS50YXJnZXQucmVzdWx0KTsKICAgICAgfTsKICAgICAgcmVhZGVyLnJlYWRBc0FycmF5QnVmZmVyKGZpbGUpOwogICAgfSk7CiAgICAvLyBXYWl0IGZvciB0aGUgZGF0YSB0byBiZSByZWFkeS4KICAgIGxldCBmaWxlRGF0YSA9IHlpZWxkIHsKICAgICAgcHJvbWlzZTogZmlsZURhdGFQcm9taXNlLAogICAgICByZXNwb25zZTogewogICAgICAgIGFjdGlvbjogJ2NvbnRpbnVlJywKICAgICAgfQogICAgfTsKCiAgICAvLyBVc2UgYSBjaHVua2VkIHNlbmRpbmcgdG8gYXZvaWQgbWVzc2FnZSBzaXplIGxpbWl0cy4gU2VlIGIvNjIxMTU2NjAuCiAgICBsZXQgcG9zaXRpb24gPSAwOwogICAgZG8gewogICAgICBjb25zdCBsZW5ndGggPSBNYXRoLm1pbihmaWxlRGF0YS5ieXRlTGVuZ3RoIC0gcG9zaXRpb24sIE1BWF9QQVlMT0FEX1NJWkUpOwogICAgICBjb25zdCBjaHVuayA9IG5ldyBVaW50OEFycmF5KGZpbGVEYXRhLCBwb3NpdGlvbiwgbGVuZ3RoKTsKICAgICAgcG9zaXRpb24gKz0gbGVuZ3RoOwoKICAgICAgY29uc3QgYmFzZTY0ID0gYnRvYShTdHJpbmcuZnJvbUNoYXJDb2RlLmFwcGx5KG51bGwsIGNodW5rKSk7CiAgICAgIHlpZWxkIHsKICAgICAgICByZXNwb25zZTogewogICAgICAgICAgYWN0aW9uOiAnYXBwZW5kJywKICAgICAgICAgIGZpbGU6IGZpbGUubmFtZSwKICAgICAgICAgIGRhdGE6IGJhc2U2NCwKICAgICAgICB9LAogICAgICB9OwoKICAgICAgbGV0IHBlcmNlbnREb25lID0gZmlsZURhdGEuYnl0ZUxlbmd0aCA9PT0gMCA/CiAgICAgICAgICAxMDAgOgogICAgICAgICAgTWF0aC5yb3VuZCgocG9zaXRpb24gLyBmaWxlRGF0YS5ieXRlTGVuZ3RoKSAqIDEwMCk7CiAgICAgIHBlcmNlbnQudGV4dENvbnRlbnQgPSBgJHtwZXJjZW50RG9uZX0lIGRvbmVgOwoKICAgIH0gd2hpbGUgKHBvc2l0aW9uIDwgZmlsZURhdGEuYnl0ZUxlbmd0aCk7CiAgfQoKICAvLyBBbGwgZG9uZS4KICB5aWVsZCB7CiAgICByZXNwb25zZTogewogICAgICBhY3Rpb246ICdjb21wbGV0ZScsCiAgICB9CiAgfTsKfQoKc2NvcGUuZ29vZ2xlID0gc2NvcGUuZ29vZ2xlIHx8IHt9OwpzY29wZS5nb29nbGUuY29sYWIgPSBzY29wZS5nb29nbGUuY29sYWIgfHwge307CnNjb3BlLmdvb2dsZS5jb2xhYi5fZmlsZXMgPSB7CiAgX3VwbG9hZEZpbGVzLAogIF91cGxvYWRGaWxlc0NvbnRpbnVlLAp9Owp9KShzZWxmKTsK",
              "ok": true,
              "headers": [
                [
                  "content-type",
                  "application/javascript"
                ]
              ],
              "status": 200,
              "status_text": ""
            }
          },
          "base_uri": "https://localhost:8080/",
          "height": 73
        },
        "outputId": "60a3ab05-bfdd-4305-f09a-b57be3def422"
      },
      "execution_count": null,
      "outputs": [
        {
          "output_type": "display_data",
          "data": {
            "text/plain": [
              "<IPython.core.display.HTML object>"
            ],
            "text/html": [
              "\n",
              "     <input type=\"file\" id=\"files-c7b17bbd-f89a-4111-8a53-68be50740c26\" name=\"files[]\" multiple disabled\n",
              "        style=\"border:none\" />\n",
              "     <output id=\"result-c7b17bbd-f89a-4111-8a53-68be50740c26\">\n",
              "      Upload widget is only available when the cell has been executed in the\n",
              "      current browser session. Please rerun this cell to enable.\n",
              "      </output>\n",
              "      <script src=\"/nbextensions/google.colab/files.js\"></script> "
            ]
          },
          "metadata": {}
        },
        {
          "output_type": "stream",
          "name": "stdout",
          "text": [
            "Saving Wonder.txt to Wonder.txt\n"
          ]
        }
      ]
    },
    {
      "cell_type": "code",
      "source": [
        "text = open(path_to_file, 'rb').read().decode(encoding='utf-8')\n",
        "print ('Length of text: {} characters'.format(len(text)))"
      ],
      "metadata": {
        "id": "n7sU0vs2rDx2",
        "colab": {
          "base_uri": "https://localhost:8080/"
        },
        "outputId": "ef4430d1-f532-4369-bb8d-dbe65ac339b2"
      },
      "execution_count": null,
      "outputs": [
        {
          "output_type": "stream",
          "name": "stdout",
          "text": [
            "Length of text: 390663 characters\n"
          ]
        }
      ]
    },
    {
      "cell_type": "code",
      "source": [
        "text=text.replace('\\n', ' ') #replacing the newline character with space\n",
        "vocab = sorted(set(text))\n",
        "\n",
        "#Assigning indices to unique characters\n",
        "char2idx = {u:i for i, u in enumerate(vocab)}\n",
        "idx2char = np.array(vocab)\n",
        "\n",
        "def text_to_int(text):\n",
        "  return np.array([char2idx[c] for c in text])\n",
        "\n",
        "text_as_int = text_to_int(text)"
      ],
      "metadata": {
        "id": "fKAp8upJrtY0"
      },
      "execution_count": null,
      "outputs": []
    },
    {
      "cell_type": "code",
      "source": [
        "def int_to_text(ints):\n",
        "  try:\n",
        "    ints = ints.numpy()\n",
        "  except:\n",
        "    pass\n",
        "  return ''.join(idx2char[ints])"
      ],
      "metadata": {
        "id": "QSmZQCCotAgC"
      },
      "execution_count": null,
      "outputs": []
    },
    {
      "cell_type": "code",
      "source": [
        "seq_length = 100  # length of sequence for a training example\n",
        "examples_per_epoch = len(text)//(seq_length+1)\n",
        "\n",
        "# Create training examples / targets\n",
        "char_dataset = tf.data.Dataset.from_tensor_slices(text_as_int)"
      ],
      "metadata": {
        "id": "TRKd1NDgtKhJ"
      },
      "execution_count": null,
      "outputs": []
    },
    {
      "cell_type": "code",
      "source": [
        "sequences = char_dataset.batch(seq_length+1, drop_remainder=True)"
      ],
      "metadata": {
        "id": "bwQfD7kntbrM"
      },
      "execution_count": null,
      "outputs": []
    },
    {
      "cell_type": "code",
      "source": [
        "def split_input_target(chunk):  # for the example: hello\n",
        "    input_text = chunk[:-1]  # hell\n",
        "    target_text = chunk[1:]  # ello\n",
        "    return input_text, target_text  # hell, ello\n",
        "\n",
        "dataset = sequences.map(split_input_target)  # we use map to apply the above function to every entry"
      ],
      "metadata": {
        "id": "8H8TphShtiJl"
      },
      "execution_count": null,
      "outputs": []
    },
    {
      "cell_type": "code",
      "source": [
        "BATCH_SIZE = 64\n",
        "VOCAB_SIZE = len(vocab)  # VOCAB_SIZE is number of unique characters\n",
        "EMBEDDING_DIM = 256\n",
        "RNN_UNITS = 1024\n",
        "\n",
        "# Buffer size to shuffle the dataset\n",
        "# (TF data is designed to work with possibly infinite sequences,\n",
        "# so it doesn't attempt to shuffle the entire sequence in memory. Instead,\n",
        "# it maintains a buffer in which it shuffles elements).\n",
        "BUFFER_SIZE = 10000\n",
        "\n",
        "data = dataset.shuffle(BUFFER_SIZE).batch(BATCH_SIZE, drop_remainder=True)"
      ],
      "metadata": {
        "id": "aqC14AWntwn5"
      },
      "execution_count": null,
      "outputs": []
    },
    {
      "cell_type": "code",
      "source": [
        "def build_model(vocab_size, embedding_dim, rnn_units, batch_size):\n",
        "  model = tf.keras.Sequential([\n",
        "    tf.keras.layers.Embedding(vocab_size, embedding_dim,\n",
        "                              batch_input_shape=[batch_size, None]),\n",
        "    tf.keras.layers.LSTM(rnn_units,\n",
        "                        return_sequences=True,\n",
        "                        stateful=True,\n",
        "                        recurrent_initializer='glorot_uniform'),\n",
        "    tf.keras.layers.Dense(vocab_size),\n",
        "  ])\n",
        "  return model\n",
        "\n",
        "model = build_model(VOCAB_SIZE,EMBEDDING_DIM, RNN_UNITS, BATCH_SIZE)\n",
        "model.summary()"
      ],
      "metadata": {
        "id": "x89BL9-Ht1yB",
        "colab": {
          "base_uri": "https://localhost:8080/"
        },
        "outputId": "dc63cf1a-f8e4-4acc-dc84-19e6e166491d"
      },
      "execution_count": null,
      "outputs": [
        {
          "output_type": "stream",
          "name": "stdout",
          "text": [
            "Model: \"sequential\"\n",
            "_________________________________________________________________\n",
            " Layer (type)                Output Shape              Param #   \n",
            "=================================================================\n",
            " embedding (Embedding)       (64, None, 256)           21248     \n",
            "                                                                 \n",
            " lstm (LSTM)                 (64, None, 1024)          5246976   \n",
            "                                                                 \n",
            " dense (Dense)               (64, None, 83)            85075     \n",
            "                                                                 \n",
            "=================================================================\n",
            "Total params: 5,353,299\n",
            "Trainable params: 5,353,299\n",
            "Non-trainable params: 0\n",
            "_________________________________________________________________\n"
          ]
        }
      ]
    },
    {
      "cell_type": "code",
      "source": [
        "def loss(labels, logits):\n",
        "  return tf.keras.losses.sparse_categorical_crossentropy(labels, logits, from_logits=True)\n",
        "\n",
        "model.compile(optimizer='adam', loss=loss, metrics=['accuracy'])"
      ],
      "metadata": {
        "id": "JwEZZ9vet4NO"
      },
      "execution_count": null,
      "outputs": []
    },
    {
      "cell_type": "code",
      "source": [
        "# Directory where the checkpoints will be saved\n",
        "checkpoint_dir = './training_checkpoints'\n",
        "# Name of the checkpoint files\n",
        "checkpoint_prefix = os.path.join(checkpoint_dir, \"ckpt_{epoch}\")\n",
        "\n",
        "checkpoint_callback=tf.keras.callbacks.ModelCheckpoint(\n",
        "    filepath=checkpoint_prefix,\n",
        "    save_weights_only=True)"
      ],
      "metadata": {
        "id": "w9aRZm30uEf4"
      },
      "execution_count": null,
      "outputs": []
    },
    {
      "cell_type": "code",
      "source": [
        "history = model.fit(data, epochs=130, callbacks=[checkpoint_callback])"
      ],
      "metadata": {
        "id": "uKqIQnpKuIFx",
        "colab": {
          "base_uri": "https://localhost:8080/"
        },
        "outputId": "e7ceeac0-0a39-47c3-e37f-784ffa95f949"
      },
      "execution_count": null,
      "outputs": [
        {
          "output_type": "stream",
          "name": "stdout",
          "text": [
            "Epoch 1/130\n",
            "60/60 [==============================] - 10s 65ms/step - loss: 3.0621 - accuracy: 0.2106\n",
            "Epoch 2/130\n",
            "60/60 [==============================] - 4s 64ms/step - loss: 2.4040 - accuracy: 0.3353\n",
            "Epoch 3/130\n",
            "60/60 [==============================] - 4s 65ms/step - loss: 2.1199 - accuracy: 0.4022\n",
            "Epoch 4/130\n",
            "60/60 [==============================] - 4s 66ms/step - loss: 1.9177 - accuracy: 0.4566\n",
            "Epoch 5/130\n",
            "60/60 [==============================] - 4s 66ms/step - loss: 1.7376 - accuracy: 0.5004\n",
            "Epoch 6/130\n",
            "60/60 [==============================] - 4s 66ms/step - loss: 1.6099 - accuracy: 0.5342\n",
            "Epoch 7/130\n",
            "60/60 [==============================] - 4s 67ms/step - loss: 1.5107 - accuracy: 0.5607\n",
            "Epoch 8/130\n",
            "60/60 [==============================] - 4s 68ms/step - loss: 1.4312 - accuracy: 0.5825\n",
            "Epoch 9/130\n",
            "60/60 [==============================] - 5s 67ms/step - loss: 1.3683 - accuracy: 0.5985\n",
            "Epoch 10/130\n",
            "60/60 [==============================] - 5s 68ms/step - loss: 1.3141 - accuracy: 0.6129\n",
            "Epoch 11/130\n",
            "60/60 [==============================] - 5s 68ms/step - loss: 1.2649 - accuracy: 0.6260\n",
            "Epoch 12/130\n",
            "60/60 [==============================] - 5s 69ms/step - loss: 1.2236 - accuracy: 0.6368\n",
            "Epoch 13/130\n",
            "60/60 [==============================] - 5s 70ms/step - loss: 1.1827 - accuracy: 0.6490\n",
            "Epoch 14/130\n",
            "60/60 [==============================] - 5s 69ms/step - loss: 1.1436 - accuracy: 0.6597\n",
            "Epoch 15/130\n",
            "60/60 [==============================] - 5s 69ms/step - loss: 1.1058 - accuracy: 0.6701\n",
            "Epoch 16/130\n",
            "60/60 [==============================] - 5s 70ms/step - loss: 1.0667 - accuracy: 0.6816\n",
            "Epoch 17/130\n",
            "60/60 [==============================] - 5s 71ms/step - loss: 1.0312 - accuracy: 0.6924\n",
            "Epoch 18/130\n",
            "60/60 [==============================] - 5s 70ms/step - loss: 0.9900 - accuracy: 0.7052\n",
            "Epoch 19/130\n",
            "60/60 [==============================] - 5s 71ms/step - loss: 0.9519 - accuracy: 0.7178\n",
            "Epoch 20/130\n",
            "60/60 [==============================] - 5s 71ms/step - loss: 0.9118 - accuracy: 0.7302\n",
            "Epoch 21/130\n",
            "60/60 [==============================] - 5s 73ms/step - loss: 0.8722 - accuracy: 0.7442\n",
            "Epoch 22/130\n",
            "60/60 [==============================] - 5s 73ms/step - loss: 0.8298 - accuracy: 0.7585\n",
            "Epoch 23/130\n",
            "60/60 [==============================] - 5s 73ms/step - loss: 0.7877 - accuracy: 0.7728\n",
            "Epoch 24/130\n",
            "60/60 [==============================] - 5s 73ms/step - loss: 0.7466 - accuracy: 0.7884\n",
            "Epoch 25/130\n",
            "60/60 [==============================] - 5s 73ms/step - loss: 0.7072 - accuracy: 0.8029\n",
            "Epoch 26/130\n",
            "60/60 [==============================] - 5s 74ms/step - loss: 0.6648 - accuracy: 0.8185\n",
            "Epoch 27/130\n",
            "60/60 [==============================] - 5s 75ms/step - loss: 0.6253 - accuracy: 0.8330\n",
            "Epoch 28/130\n",
            "60/60 [==============================] - 5s 76ms/step - loss: 0.5905 - accuracy: 0.8455\n",
            "Epoch 29/130\n",
            "60/60 [==============================] - 5s 76ms/step - loss: 0.5545 - accuracy: 0.8599\n",
            "Epoch 30/130\n",
            "60/60 [==============================] - 5s 76ms/step - loss: 0.5235 - accuracy: 0.8717\n",
            "Epoch 31/130\n",
            "60/60 [==============================] - 5s 76ms/step - loss: 0.4952 - accuracy: 0.8822\n",
            "Epoch 32/130\n",
            "60/60 [==============================] - 5s 76ms/step - loss: 0.4690 - accuracy: 0.8914\n",
            "Epoch 33/130\n",
            "60/60 [==============================] - 5s 75ms/step - loss: 0.4438 - accuracy: 0.9005\n",
            "Epoch 34/130\n",
            "60/60 [==============================] - 5s 76ms/step - loss: 0.4214 - accuracy: 0.9089\n",
            "Epoch 35/130\n",
            "60/60 [==============================] - 5s 74ms/step - loss: 0.4011 - accuracy: 0.9155\n",
            "Epoch 36/130\n",
            "60/60 [==============================] - 5s 75ms/step - loss: 0.3841 - accuracy: 0.9202\n",
            "Epoch 37/130\n",
            "60/60 [==============================] - 6s 84ms/step - loss: 0.3685 - accuracy: 0.9254\n",
            "Epoch 38/130\n",
            "60/60 [==============================] - 5s 74ms/step - loss: 0.3545 - accuracy: 0.9298\n",
            "Epoch 39/130\n",
            "60/60 [==============================] - 5s 73ms/step - loss: 0.3440 - accuracy: 0.9329\n",
            "Epoch 40/130\n",
            "60/60 [==============================] - 5s 74ms/step - loss: 0.3318 - accuracy: 0.9358\n",
            "Epoch 41/130\n",
            "60/60 [==============================] - 5s 75ms/step - loss: 0.3218 - accuracy: 0.9384\n",
            "Epoch 42/130\n",
            "60/60 [==============================] - 5s 77ms/step - loss: 0.3158 - accuracy: 0.9399\n",
            "Epoch 43/130\n",
            "60/60 [==============================] - 5s 78ms/step - loss: 0.3063 - accuracy: 0.9423\n",
            "Epoch 44/130\n",
            "60/60 [==============================] - 5s 78ms/step - loss: 0.3000 - accuracy: 0.9441\n",
            "Epoch 45/130\n",
            "60/60 [==============================] - 5s 74ms/step - loss: 0.2931 - accuracy: 0.9446\n",
            "Epoch 46/130\n",
            "60/60 [==============================] - 5s 74ms/step - loss: 0.2868 - accuracy: 0.9458\n",
            "Epoch 47/130\n",
            "60/60 [==============================] - 5s 75ms/step - loss: 0.2844 - accuracy: 0.9464\n",
            "Epoch 48/130\n",
            "60/60 [==============================] - 5s 75ms/step - loss: 0.2781 - accuracy: 0.9476\n",
            "Epoch 49/130\n",
            "60/60 [==============================] - 5s 75ms/step - loss: 0.2730 - accuracy: 0.9486\n",
            "Epoch 50/130\n",
            "60/60 [==============================] - 5s 75ms/step - loss: 0.2694 - accuracy: 0.9496\n",
            "Epoch 51/130\n",
            "60/60 [==============================] - 5s 76ms/step - loss: 0.2641 - accuracy: 0.9506\n",
            "Epoch 52/130\n",
            "60/60 [==============================] - 5s 75ms/step - loss: 0.2631 - accuracy: 0.9503\n",
            "Epoch 53/130\n",
            "60/60 [==============================] - 5s 76ms/step - loss: 0.2596 - accuracy: 0.9513\n",
            "Epoch 54/130\n",
            "60/60 [==============================] - 5s 76ms/step - loss: 0.2553 - accuracy: 0.9518\n",
            "Epoch 55/130\n",
            "60/60 [==============================] - 5s 75ms/step - loss: 0.2510 - accuracy: 0.9528\n",
            "Epoch 56/130\n",
            "60/60 [==============================] - 5s 76ms/step - loss: 0.2494 - accuracy: 0.9531\n",
            "Epoch 57/130\n",
            "60/60 [==============================] - 5s 75ms/step - loss: 0.2480 - accuracy: 0.9533\n",
            "Epoch 58/130\n",
            "60/60 [==============================] - 5s 76ms/step - loss: 0.2459 - accuracy: 0.9538\n",
            "Epoch 59/130\n",
            "60/60 [==============================] - 5s 75ms/step - loss: 0.2428 - accuracy: 0.9542\n",
            "Epoch 60/130\n",
            "60/60 [==============================] - 5s 76ms/step - loss: 0.2405 - accuracy: 0.9546\n",
            "Epoch 61/130\n",
            "60/60 [==============================] - 5s 75ms/step - loss: 0.2385 - accuracy: 0.9547\n",
            "Epoch 62/130\n",
            "60/60 [==============================] - 5s 76ms/step - loss: 0.2386 - accuracy: 0.9550\n",
            "Epoch 63/130\n",
            "60/60 [==============================] - 5s 75ms/step - loss: 0.2336 - accuracy: 0.9557\n",
            "Epoch 64/130\n",
            "60/60 [==============================] - 5s 75ms/step - loss: 0.2345 - accuracy: 0.9554\n",
            "Epoch 65/130\n",
            "60/60 [==============================] - 5s 76ms/step - loss: 0.2293 - accuracy: 0.9567\n",
            "Epoch 66/130\n",
            "60/60 [==============================] - 5s 75ms/step - loss: 0.2287 - accuracy: 0.9567\n",
            "Epoch 67/130\n",
            "60/60 [==============================] - 5s 76ms/step - loss: 0.2256 - accuracy: 0.9568\n",
            "Epoch 68/130\n",
            "60/60 [==============================] - 5s 76ms/step - loss: 0.2261 - accuracy: 0.9567\n",
            "Epoch 69/130\n",
            "60/60 [==============================] - 5s 75ms/step - loss: 0.2241 - accuracy: 0.9572\n",
            "Epoch 70/130\n",
            "60/60 [==============================] - 5s 76ms/step - loss: 0.2236 - accuracy: 0.9574\n",
            "Epoch 71/130\n",
            "60/60 [==============================] - 5s 75ms/step - loss: 0.2206 - accuracy: 0.9579\n",
            "Epoch 72/130\n",
            "60/60 [==============================] - 5s 75ms/step - loss: 0.2178 - accuracy: 0.9584\n",
            "Epoch 73/130\n",
            "60/60 [==============================] - 5s 75ms/step - loss: 0.2188 - accuracy: 0.9582\n",
            "Epoch 74/130\n",
            "60/60 [==============================] - 5s 75ms/step - loss: 0.2176 - accuracy: 0.9585\n",
            "Epoch 75/130\n",
            "60/60 [==============================] - 5s 75ms/step - loss: 0.2149 - accuracy: 0.9586\n",
            "Epoch 76/130\n",
            "60/60 [==============================] - 5s 76ms/step - loss: 0.2143 - accuracy: 0.9592\n",
            "Epoch 77/130\n",
            "60/60 [==============================] - 5s 76ms/step - loss: 0.2152 - accuracy: 0.9589\n",
            "Epoch 78/130\n",
            "60/60 [==============================] - 5s 75ms/step - loss: 0.2134 - accuracy: 0.9588\n",
            "Epoch 79/130\n",
            "60/60 [==============================] - 5s 76ms/step - loss: 0.2115 - accuracy: 0.9596\n",
            "Epoch 80/130\n",
            "60/60 [==============================] - 5s 75ms/step - loss: 0.2100 - accuracy: 0.9596\n",
            "Epoch 81/130\n",
            "60/60 [==============================] - 5s 76ms/step - loss: 0.2111 - accuracy: 0.9596\n",
            "Epoch 82/130\n",
            "60/60 [==============================] - 5s 75ms/step - loss: 0.2087 - accuracy: 0.9598\n",
            "Epoch 83/130\n",
            "60/60 [==============================] - 5s 76ms/step - loss: 0.2080 - accuracy: 0.9600\n",
            "Epoch 84/130\n",
            "60/60 [==============================] - 5s 75ms/step - loss: 0.2061 - accuracy: 0.9604\n",
            "Epoch 85/130\n",
            "60/60 [==============================] - 5s 75ms/step - loss: 0.2058 - accuracy: 0.9603\n",
            "Epoch 86/130\n",
            "60/60 [==============================] - 5s 75ms/step - loss: 0.2056 - accuracy: 0.9601\n",
            "Epoch 87/130\n",
            "60/60 [==============================] - 5s 75ms/step - loss: 0.2028 - accuracy: 0.9604\n",
            "Epoch 88/130\n",
            "60/60 [==============================] - 5s 75ms/step - loss: 0.2023 - accuracy: 0.9608\n",
            "Epoch 89/130\n",
            "60/60 [==============================] - 5s 76ms/step - loss: 0.2013 - accuracy: 0.9610\n",
            "Epoch 90/130\n",
            "60/60 [==============================] - 5s 75ms/step - loss: 0.1978 - accuracy: 0.9616\n",
            "Epoch 91/130\n",
            "60/60 [==============================] - 5s 76ms/step - loss: 0.1977 - accuracy: 0.9614\n",
            "Epoch 92/130\n",
            "60/60 [==============================] - 5s 75ms/step - loss: 0.1975 - accuracy: 0.9617\n",
            "Epoch 93/130\n",
            "60/60 [==============================] - 5s 76ms/step - loss: 0.1988 - accuracy: 0.9616\n",
            "Epoch 94/130\n",
            "60/60 [==============================] - 5s 75ms/step - loss: 0.1990 - accuracy: 0.9614\n",
            "Epoch 95/130\n",
            "60/60 [==============================] - 5s 75ms/step - loss: 0.1986 - accuracy: 0.9614\n",
            "Epoch 96/130\n",
            "60/60 [==============================] - 5s 75ms/step - loss: 0.1975 - accuracy: 0.9619\n",
            "Epoch 97/130\n",
            "60/60 [==============================] - 5s 76ms/step - loss: 0.1955 - accuracy: 0.9621\n",
            "Epoch 98/130\n",
            "60/60 [==============================] - 5s 75ms/step - loss: 0.1940 - accuracy: 0.9622\n",
            "Epoch 99/130\n",
            "60/60 [==============================] - 5s 75ms/step - loss: 0.1925 - accuracy: 0.9622\n",
            "Epoch 100/130\n",
            "60/60 [==============================] - 5s 75ms/step - loss: 0.1929 - accuracy: 0.9624\n",
            "Epoch 101/130\n",
            "60/60 [==============================] - 5s 76ms/step - loss: 0.1913 - accuracy: 0.9625\n",
            "Epoch 102/130\n",
            "60/60 [==============================] - 5s 75ms/step - loss: 0.1889 - accuracy: 0.9629\n",
            "Epoch 103/130\n",
            "60/60 [==============================] - 5s 76ms/step - loss: 0.1897 - accuracy: 0.9629\n",
            "Epoch 104/130\n",
            "60/60 [==============================] - 5s 75ms/step - loss: 0.1902 - accuracy: 0.9625\n",
            "Epoch 105/130\n",
            "60/60 [==============================] - 5s 76ms/step - loss: 0.1898 - accuracy: 0.9627\n",
            "Epoch 106/130\n",
            "60/60 [==============================] - 5s 75ms/step - loss: 0.1891 - accuracy: 0.9628\n",
            "Epoch 107/130\n",
            "60/60 [==============================] - 5s 75ms/step - loss: 0.1871 - accuracy: 0.9635\n",
            "Epoch 108/130\n",
            "60/60 [==============================] - 5s 75ms/step - loss: 0.1858 - accuracy: 0.9634\n",
            "Epoch 109/130\n",
            "60/60 [==============================] - 5s 76ms/step - loss: 0.1886 - accuracy: 0.9631\n",
            "Epoch 110/130\n",
            "60/60 [==============================] - 5s 75ms/step - loss: 0.1858 - accuracy: 0.9636\n",
            "Epoch 111/130\n",
            "60/60 [==============================] - 5s 76ms/step - loss: 0.1845 - accuracy: 0.9637\n",
            "Epoch 112/130\n",
            "60/60 [==============================] - 5s 75ms/step - loss: 0.1860 - accuracy: 0.9637\n",
            "Epoch 113/130\n",
            "60/60 [==============================] - 5s 75ms/step - loss: 0.1853 - accuracy: 0.9637\n",
            "Epoch 114/130\n",
            "60/60 [==============================] - 5s 75ms/step - loss: 0.1848 - accuracy: 0.9632\n",
            "Epoch 115/130\n",
            "60/60 [==============================] - 5s 76ms/step - loss: 0.1832 - accuracy: 0.9638\n",
            "Epoch 116/130\n",
            "60/60 [==============================] - 5s 75ms/step - loss: 0.1828 - accuracy: 0.9640\n",
            "Epoch 117/130\n",
            "60/60 [==============================] - 5s 76ms/step - loss: 0.1818 - accuracy: 0.9643\n",
            "Epoch 118/130\n",
            "60/60 [==============================] - 5s 75ms/step - loss: 0.1814 - accuracy: 0.9644\n",
            "Epoch 119/130\n",
            "60/60 [==============================] - 5s 75ms/step - loss: 0.1808 - accuracy: 0.9642\n",
            "Epoch 120/130\n",
            "60/60 [==============================] - 5s 75ms/step - loss: 0.1809 - accuracy: 0.9642\n",
            "Epoch 121/130\n",
            "60/60 [==============================] - 5s 75ms/step - loss: 0.1790 - accuracy: 0.9649\n",
            "Epoch 122/130\n",
            "60/60 [==============================] - 5s 75ms/step - loss: 0.1786 - accuracy: 0.9646\n",
            "Epoch 123/130\n",
            "60/60 [==============================] - 5s 76ms/step - loss: 0.1792 - accuracy: 0.9649\n",
            "Epoch 124/130\n",
            "60/60 [==============================] - 5s 75ms/step - loss: 0.1796 - accuracy: 0.9644\n",
            "Epoch 125/130\n",
            "60/60 [==============================] - 5s 76ms/step - loss: 0.1781 - accuracy: 0.9648\n",
            "Epoch 126/130\n",
            "60/60 [==============================] - 5s 75ms/step - loss: 0.1763 - accuracy: 0.9652\n",
            "Epoch 127/130\n",
            "60/60 [==============================] - 5s 76ms/step - loss: 0.1757 - accuracy: 0.9648\n",
            "Epoch 128/130\n",
            "60/60 [==============================] - 5s 75ms/step - loss: 0.1756 - accuracy: 0.9651\n",
            "Epoch 129/130\n",
            "60/60 [==============================] - 5s 75ms/step - loss: 0.1754 - accuracy: 0.9652\n",
            "Epoch 130/130\n",
            "60/60 [==============================] - 5s 75ms/step - loss: 0.1762 - accuracy: 0.9651\n"
          ]
        }
      ]
    },
    {
      "cell_type": "code",
      "source": [
        "print(history.history.keys())\n",
        "# \"Accuracy\"\n",
        "plt.plot(history.history['accuracy'])\n",
        "##plt.plot(history.history['val_accuracy'])\n",
        "plt.title('model accuracy')\n",
        "plt.ylabel('accuracy')\n",
        "plt.xlabel('epoch')\n",
        "##plt.legend(['train', 'validation'], loc='upper left')\n",
        "plt.show()\n",
        "# \"Loss\"\n",
        "plt.plot(history.history['loss'])\n",
        "##plt.plot(history.history['val_loss'])\n",
        "plt.title('model loss')\n",
        "plt.ylabel('loss')\n",
        "plt.xlabel('epoch')\n",
        "##plt.legend(['train', 'validation'], loc='upper left')\n",
        "plt.show()"
      ],
      "metadata": {
        "id": "e15PNXr0cVlE",
        "colab": {
          "base_uri": "https://localhost:8080/",
          "height": 590
        },
        "outputId": "c5e6d4af-484f-48c1-8a7c-bbaf24ca14c4"
      },
      "execution_count": null,
      "outputs": [
        {
          "output_type": "stream",
          "name": "stdout",
          "text": [
            "dict_keys(['loss', 'accuracy'])\n"
          ]
        },
        {
          "output_type": "display_data",
          "data": {
            "text/plain": [
              "<Figure size 432x288 with 1 Axes>"
            ],
            "image/png": "[encoded data removed]"
          },
          "metadata": {
            "needs_background": "light"
          }
        },
        {
          "output_type": "display_data",
          "data": {
            "text/plain": [
              "<Figure size 432x288 with 1 Axes>"
            ],
            "image/png": "[encoded data removed]"
          },
          "metadata": {
            "needs_background": "light"
          }
        }
      ]
    },
    {
      "cell_type": "code",
      "source": [
        "model1 = build_model(VOCAB_SIZE, EMBEDDING_DIM, RNN_UNITS, batch_size=1)"
      ],
      "metadata": {
        "id": "dmZyBFHkvj00"
      },
      "execution_count": null,
      "outputs": []
    },
    {
      "cell_type": "code",
      "source": [
        "model1.load_weights(tf.train.latest_checkpoint(checkpoint_dir))\n",
        "model1.build(tf.TensorShape([1, None]))\n",
        "\n",
        "model1.save(\"name1.h5\")"
      ],
      "metadata": {
        "id": "5-Q0N-3DvwUy",
        "colab": {
          "base_uri": "https://localhost:8080/"
        },
        "outputId": "1c7e5657-37f8-439d-f462-1cb8a173c673"
      },
      "execution_count": null,
      "outputs": [
        {
          "output_type": "stream",
          "name": "stderr",
          "text": [
            "WARNING:tensorflow:Compiled the loaded model, but the compiled metrics have yet to be built. `model.compile_metrics` will be empty until you train or evaluate the model.\n"
          ]
        }
      ]
    },
    {
      "cell_type": "code",
      "source": [
        "def generate_text(model, start_string):\n",
        "  # Evaluation step (generating text using the learned model)\n",
        "\n",
        "  # Number of characters to generate\n",
        "  num_generate = 20\n",
        "\n",
        "  # Converting our start string to numbers (vectorizing)\n",
        "  input_eval = [char2idx[s] for s in start_string]\n",
        "  input_eval = tf.expand_dims(input_eval, 0)\n",
        "\n",
        "  # Empty string to store our results\n",
        "  text_generated1 = []\n",
        "  text_generated2 = []\n",
        "  text_generated3 = []\n",
        "\n",
        "  # Low temperatures results in more predictable text.\n",
        "  # Higher temperatures results in more surprising text.\n",
        "  # Experiment to find the best setting.\n",
        "  temperature = 1.0\n",
        "\n",
        "  # Here batch size == 1\n",
        "  #model.reset_states()\n",
        "  for i in range(num_generate):\n",
        "      predictions = model(input_eval)\n",
        "      # remove the batch dimension\n",
        "    \n",
        "      predictions = tf.squeeze(predictions, 0)\n",
        "      \n",
        "\n",
        "      # using a categorical distribution to predict the character returned by the model\n",
        "      predictions = predictions / temperature\n",
        "      predicted_id = tf.random.categorical(predictions, num_samples=1)[-1,0].numpy()\n",
        "    \n",
        "\n",
        "      # We pass the predicted character as the next input to the model\n",
        "      # along with the previous hidden state\n",
        "      input_eval = tf.expand_dims([predicted_id], 0)\n",
        "\n",
        "      text_generated1.append(idx2char[predicted_id])\n",
        "\n",
        "  #model.reset_states()\n",
        "  for i in range(num_generate):\n",
        "      predictions = model(input_eval)\n",
        "      # remove the batch dimension\n",
        "    \n",
        "      predictions = tf.squeeze(predictions, 0)\n",
        "      \n",
        "\n",
        "      # using a categorical distribution to predict the character returned by the model\n",
        "      predictions = predictions / temperature\n",
        "      predicted_id = tf.random.categorical(predictions, num_samples=1)[-1,0].numpy()\n",
        "    \n",
        "\n",
        "      # We pass the predicted character as the next input to the model\n",
        "      # along with the previous hidden state\n",
        "      input_eval = tf.expand_dims([predicted_id], 0)\n",
        "\n",
        "      text_generated2.append(idx2char[predicted_id])\n",
        "\n",
        "  #model.reset_states()\n",
        "  for i in range(num_generate):\n",
        "      predictions = model(input_eval)\n",
        "      # remove the batch dimension\n",
        "    \n",
        "      predictions = tf.squeeze(predictions, 0)\n",
        "      \n",
        "\n",
        "      # using a categorical distribution to predict the character returned by the model\n",
        "      predictions = predictions / temperature\n",
        "      predicted_id = tf.random.categorical(predictions, num_samples=1)[-1,0].numpy()\n",
        "    \n",
        "\n",
        "      # We pass the predicted character as the next input to the model\n",
        "      # along with the previous hidden state\n",
        "      input_eval = tf.expand_dims([predicted_id], 0)\n",
        "\n",
        "      text_generated3.append(idx2char[predicted_id])\n",
        "\n",
        "  #return (start_string + ''.join(text_generated1), start_string + ''.join(text_generated2), start_string + ''.join(text_generated3))\n",
        "  return (text_generated1, text_generated2, text_generated3)"
      ],
      "metadata": {
        "id": "RQROQGYDwP7a"
      },
      "execution_count": null,
      "outputs": []
    },
    {
      "cell_type": "code",
      "source": [
        "inp = input(\"Type a starting string: \")\n",
        "pred = list(generate_text(model1, inp))\n",
        "print()\n",
        "\n",
        "last = len(inp)-1\n",
        "\n",
        "\n",
        "\n",
        "for i in range(len(pred)):\n",
        "  if (inp[last]==' '):\n",
        "    for j in range(len(pred[i])):\n",
        "      if ((pred[i][j]==\" \") and (j!=0)):\n",
        "        break\n",
        "      else:\n",
        "        print(pred[i][j], end='')\n",
        "  else:\n",
        "    print(inp, end='')\n",
        "    for j in range(len(pred[i])):\n",
        "      if ((pred[i][j]==\" \") and (j!=0)):\n",
        "        break\n",
        "      else:\n",
        "        if (pred[i][j]==\" \" and j==0):\n",
        "          continue\n",
        "        else:\n",
        "          print(pred[i][j], end='')\n",
        "\n",
        "\n",
        "  print()\n",
        "  print()"
      ],
      "metadata": {
        "id": "_eSCIhQVfKA7",
        "colab": {
          "base_uri": "https://localhost:8080/"
        },
        "outputId": "002de667-672f-4410-8e1e-bfa2963f9dcc"
      },
      "execution_count": null,
      "outputs": [
        {
          "output_type": "stream",
          "name": "stdout",
          "text": [
            "Type a starting string: hello \n",
            "do\n",
            "\n",
            "le\n",
            "\n",
            "ut\n",
            "\n"
          ]
        }
      ]
    }
  ]
}